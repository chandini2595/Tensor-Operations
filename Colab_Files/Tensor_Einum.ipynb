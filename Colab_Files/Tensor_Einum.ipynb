{
  "nbformat": 4,
  "nbformat_minor": 0,
  "metadata": {
    "colab": {
      "provenance": [],
      "authorship_tag": "ABX9TyNTk31QqOPWAzREAvybShLE",
      "include_colab_link": true
    },
    "kernelspec": {
      "name": "python3",
      "display_name": "Python 3"
    },
    "language_info": {
      "name": "python"
    }
  },
  "cells": [
    {
      "cell_type": "markdown",
      "metadata": {
        "id": "view-in-github",
        "colab_type": "text"
      },
      "source": [
        "<a href=\"https://colab.research.google.com/github/chandini2595/Tensor-Operations/blob/main/Colab_Files/Tensor_Einum.ipynb\" target=\"_parent\"><img src=\"https://colab.research.google.com/assets/colab-badge.svg\" alt=\"Open In Colab\"/></a>"
      ]
    },
    {
      "cell_type": "code",
      "execution_count": 1,
      "metadata": {
        "colab": {
          "base_uri": "https://localhost:8080/"
        },
        "id": "N4NyUn2Bgle1",
        "outputId": "72710cf8-bf1d-4838-e5ec-5af6c29302fc"
      },
      "outputs": [
        {
          "output_type": "stream",
          "name": "stdout",
          "text": [
            "TensorFlow Version: 2.18.0\n"
          ]
        }
      ],
      "source": [
        "import tensorflow as tf\n",
        "import numpy as np\n",
        "\n",
        "# Check TensorFlow version\n",
        "print(\"TensorFlow Version:\", tf.__version__)"
      ]
    },
    {
      "cell_type": "code",
      "source": [
        "# Creating Tensors\n",
        "scalar = tf.constant(7)\n",
        "vector = tf.constant([1, 2, 3])\n",
        "matrix = tf.constant([[1, 2], [3, 4]])\n",
        "tensor = tf.constant([[[1, 2], [3, 4]], [[5, 6], [7, 8]]])"
      ],
      "metadata": {
        "id": "yN5efjHtgnvb"
      },
      "execution_count": 2,
      "outputs": []
    },
    {
      "cell_type": "code",
      "source": [
        "print(\"Scalar:\", scalar)\n",
        "print(\"Vector:\", vector)\n",
        "print(\"Matrix:\", matrix)\n",
        "print(\"Tensor:\", tensor)"
      ],
      "metadata": {
        "colab": {
          "base_uri": "https://localhost:8080/"
        },
        "id": "6S9SGxl-g-7v",
        "outputId": "225eb2a0-e492-4f24-8d82-390b965b73bf"
      },
      "execution_count": 3,
      "outputs": [
        {
          "output_type": "stream",
          "name": "stdout",
          "text": [
            "Scalar: tf.Tensor(7, shape=(), dtype=int32)\n",
            "Vector: tf.Tensor([1 2 3], shape=(3,), dtype=int32)\n",
            "Matrix: tf.Tensor(\n",
            "[[1 2]\n",
            " [3 4]], shape=(2, 2), dtype=int32)\n",
            "Tensor: tf.Tensor(\n",
            "[[[1 2]\n",
            "  [3 4]]\n",
            "\n",
            " [[5 6]\n",
            "  [7 8]]], shape=(2, 2, 2), dtype=int32)\n"
          ]
        }
      ]
    },
    {
      "cell_type": "code",
      "source": [
        "# Tensor Operations\n",
        "x = tf.constant([[1, 2], [3, 4]], dtype=tf.float32)\n",
        "y = tf.constant([[5, 6], [7, 8]], dtype=tf.float32)"
      ],
      "metadata": {
        "id": "8HZwQydMhG9-"
      },
      "execution_count": 4,
      "outputs": []
    },
    {
      "cell_type": "code",
      "source": [
        "print(\"Addition:\\n\", tf.add(x, y))\n",
        "print(\"Multiplication:\\n\", tf.multiply(x, y))\n",
        "print(\"Matrix Multiplication:\\n\", tf.matmul(x, y))"
      ],
      "metadata": {
        "colab": {
          "base_uri": "https://localhost:8080/"
        },
        "id": "P8QYQwmNhKcV",
        "outputId": "28ab7e65-6e74-4658-d0eb-9d05025ad097"
      },
      "execution_count": 6,
      "outputs": [
        {
          "output_type": "stream",
          "name": "stdout",
          "text": [
            "Addition:\n",
            " tf.Tensor(\n",
            "[[ 6.  8.]\n",
            " [10. 12.]], shape=(2, 2), dtype=float32)\n",
            "Multiplication:\n",
            " tf.Tensor(\n",
            "[[ 5. 12.]\n",
            " [21. 32.]], shape=(2, 2), dtype=float32)\n",
            "Matrix Multiplication:\n",
            " tf.Tensor(\n",
            "[[19. 22.]\n",
            " [43. 50.]], shape=(2, 2), dtype=float32)\n"
          ]
        }
      ]
    },
    {
      "cell_type": "code",
      "source": [
        "# Reshaping Tensors\n",
        "reshaped_tensor = tf.reshape(tensor, [2,4])\n",
        "print(\"Reshaped Tensor:\\n\", reshaped_tensor)\n"
      ],
      "metadata": {
        "colab": {
          "base_uri": "https://localhost:8080/"
        },
        "id": "d81LeNDJhUig",
        "outputId": "8339cb1d-9326-41df-9a23-3694f48153e5"
      },
      "execution_count": 12,
      "outputs": [
        {
          "output_type": "stream",
          "name": "stdout",
          "text": [
            "Reshaped Tensor:\n",
            " tf.Tensor(\n",
            "[[1 2 3 4]\n",
            " [5 6 7 8]], shape=(2, 4), dtype=int32)\n"
          ]
        }
      ]
    },
    {
      "cell_type": "code",
      "source": [
        "# Einsum Demonstrations\n",
        "# Example 1: Element-wise summation\n",
        "a = tf.constant([[1, 2], [3, 4]])\n",
        "b = tf.constant([[5, 6], [7, 8]])\n",
        "einsum_result1 = tf.einsum('ij,ij->ij', a, b)\n",
        "print(\"Einsum - Element-wise multiplication:\\n\", einsum_result1)"
      ],
      "metadata": {
        "colab": {
          "base_uri": "https://localhost:8080/"
        },
        "id": "_xGGXecchYsM",
        "outputId": "47e6a344-b0c0-4014-e4c3-f6ced10f0481"
      },
      "execution_count": 13,
      "outputs": [
        {
          "output_type": "stream",
          "name": "stdout",
          "text": [
            "Einsum - Element-wise multiplication:\n",
            " tf.Tensor(\n",
            "[[ 5 12]\n",
            " [21 32]], shape=(2, 2), dtype=int32)\n"
          ]
        }
      ]
    },
    {
      "cell_type": "code",
      "source": [
        "# Example 2: Matrix Multiplication using Einsum\n",
        "einsum_result2 = tf.einsum('ik,kj->ij', x, y)\n",
        "print(\"Einsum - Matrix Multiplication:\\n\", einsum_result2)"
      ],
      "metadata": {
        "colab": {
          "base_uri": "https://localhost:8080/"
        },
        "id": "rTmTmXQvhovV",
        "outputId": "0ed65771-ae8c-482d-ed6d-e462346e7d7b"
      },
      "execution_count": 14,
      "outputs": [
        {
          "output_type": "stream",
          "name": "stdout",
          "text": [
            "Einsum - Matrix Multiplication:\n",
            " tf.Tensor(\n",
            "[[19. 22.]\n",
            " [43. 50.]], shape=(2, 2), dtype=float32)\n"
          ]
        }
      ]
    },
    {
      "cell_type": "code",
      "source": [
        "# Example 3: Sum over specific axis\n",
        "c = tf.constant([[1, 2, 3], [4, 5, 6]])\n",
        "einsum_result3 = tf.einsum('ij->i', c)  # Sum across columns\n",
        "print(\"Einsum - Sum across columns:\\n\", einsum_result3)"
      ],
      "metadata": {
        "colab": {
          "base_uri": "https://localhost:8080/"
        },
        "id": "HCU0ei_ChrZk",
        "outputId": "513fa83d-d2d3-4176-b993-7da9153c3511"
      },
      "execution_count": 15,
      "outputs": [
        {
          "output_type": "stream",
          "name": "stdout",
          "text": [
            "Einsum - Sum across columns:\n",
            " tf.Tensor([ 6 15], shape=(2,), dtype=int32)\n"
          ]
        }
      ]
    },
    {
      "cell_type": "code",
      "source": [
        "# Example 4: Outer Product\n",
        "d = tf.constant([1, 2, 3])\n",
        "e = tf.constant([4, 5, 6])\n",
        "einsum_result4 = tf.einsum('i,j->ij', d, e)\n",
        "print(\"Einsum - Outer Product:\\n\", einsum_result4)"
      ],
      "metadata": {
        "colab": {
          "base_uri": "https://localhost:8080/"
        },
        "id": "qPzpBSMRhzy_",
        "outputId": "e5068d08-9167-449c-fcc4-7bc8b1ccebc2"
      },
      "execution_count": 16,
      "outputs": [
        {
          "output_type": "stream",
          "name": "stdout",
          "text": [
            "Einsum - Outer Product:\n",
            " tf.Tensor(\n",
            "[[ 4  5  6]\n",
            " [ 8 10 12]\n",
            " [12 15 18]], shape=(3, 3), dtype=int32)\n"
          ]
        }
      ]
    },
    {
      "cell_type": "code",
      "source": [
        "# Example 5: Transposing using Einsum\n",
        "f = tf.constant([[1, 2], [3, 4]])\n",
        "einsum_result5 = tf.einsum('ij->ji', f)\n",
        "print(\"Einsum - Transpose:\\n\", einsum_result5)"
      ],
      "metadata": {
        "colab": {
          "base_uri": "https://localhost:8080/"
        },
        "id": "HAaveWcgh2GW",
        "outputId": "4ad4660f-59af-4f31-8422-7adb166253e9"
      },
      "execution_count": 17,
      "outputs": [
        {
          "output_type": "stream",
          "name": "stdout",
          "text": [
            "Einsum - Transpose:\n",
            " tf.Tensor(\n",
            "[[1 3]\n",
            " [2 4]], shape=(2, 2), dtype=int32)\n"
          ]
        }
      ]
    }
  ]
}