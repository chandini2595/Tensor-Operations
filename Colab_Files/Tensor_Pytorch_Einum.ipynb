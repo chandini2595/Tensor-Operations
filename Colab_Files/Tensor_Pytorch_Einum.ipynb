{
  "nbformat": 4,
  "nbformat_minor": 0,
  "metadata": {
    "colab": {
      "provenance": [],
      "authorship_tag": "ABX9TyPw69fRHYrHnGOdmo//zk3d",
      "include_colab_link": true
    },
    "kernelspec": {
      "name": "python3",
      "display_name": "Python 3"
    },
    "language_info": {
      "name": "python"
    }
  },
  "cells": [
    {
      "cell_type": "markdown",
      "metadata": {
        "id": "view-in-github",
        "colab_type": "text"
      },
      "source": [
        "<a href=\"https://colab.research.google.com/github/chandini2595/Tensor-Operations/blob/main/Colab_Files/Tensor_Pytorch_Einum.ipynb\" target=\"_parent\"><img src=\"https://colab.research.google.com/assets/colab-badge.svg\" alt=\"Open In Colab\"/></a>"
      ]
    },
    {
      "cell_type": "code",
      "execution_count": 7,
      "metadata": {
        "colab": {
          "base_uri": "https://localhost:8080/"
        },
        "id": "LXE2BE7onbZo",
        "outputId": "7b56afec-2cfc-46e0-e320-ce2c28139c97"
      },
      "outputs": [
        {
          "output_type": "stream",
          "name": "stdout",
          "text": [
            "PyTorch Version: 2.5.1+cu124\n"
          ]
        }
      ],
      "source": [
        "import torch\n",
        "import numpy as np\n",
        "\n",
        "# Check PyTorch version\n",
        "print(\"PyTorch Version:\", torch.__version__)"
      ]
    },
    {
      "cell_type": "code",
      "source": [
        "# Creating Tensors\n",
        "scalar = torch.tensor(7)\n",
        "vector = torch.tensor([1, 2, 3])\n",
        "matrix = torch.tensor([[1, 2], [3, 4]])\n",
        "tensor = torch.tensor([[[1, 2], [3, 4]], [[5, 6], [7, 8]]])\n",
        "\n",
        "print(\"Scalar:\", scalar)\n",
        "print(\"Vector:\", vector)\n",
        "print(\"Matrix:\", matrix)\n",
        "print(\"Tensor:\", tensor)\n"
      ],
      "metadata": {
        "colab": {
          "base_uri": "https://localhost:8080/"
        },
        "id": "Gfa89RRQnh4q",
        "outputId": "bd5aef12-2dde-4c4d-f35c-a0fddaf357c7"
      },
      "execution_count": 8,
      "outputs": [
        {
          "output_type": "stream",
          "name": "stdout",
          "text": [
            "Scalar: tensor(7)\n",
            "Vector: tensor([1, 2, 3])\n",
            "Matrix: tensor([[1, 2],\n",
            "        [3, 4]])\n",
            "Tensor: tensor([[[1, 2],\n",
            "         [3, 4]],\n",
            "\n",
            "        [[5, 6],\n",
            "         [7, 8]]])\n"
          ]
        }
      ]
    },
    {
      "cell_type": "code",
      "source": [
        "# Tensor Operations\n",
        "x = torch.tensor([[1, 2], [3, 4]], dtype=torch.float32)\n",
        "y = torch.tensor([[5, 6], [7, 8]], dtype=torch.float32)\n",
        "\n",
        "print(\"Addition:\\n\", x + y)  # Element-wise addition\n",
        "print(\"Multiplication:\\n\", x * y)  # Element-wise multiplication\n",
        "print(\"Matrix Multiplication:\\n\", torch.matmul(x, y))  # Matrix multiplication\n"
      ],
      "metadata": {
        "colab": {
          "base_uri": "https://localhost:8080/"
        },
        "id": "1zE1D7V3nj4I",
        "outputId": "0bc563bb-44de-494e-a7f9-c1d417630c10"
      },
      "execution_count": 9,
      "outputs": [
        {
          "output_type": "stream",
          "name": "stdout",
          "text": [
            "Addition:\n",
            " tensor([[ 6.,  8.],\n",
            "        [10., 12.]])\n",
            "Multiplication:\n",
            " tensor([[ 5., 12.],\n",
            "        [21., 32.]])\n",
            "Matrix Multiplication:\n",
            " tensor([[19., 22.],\n",
            "        [43., 50.]])\n"
          ]
        }
      ]
    },
    {
      "cell_type": "code",
      "source": [
        "# Reshaping Tensors\n",
        "reshaped_tensor = tensor.view(2, 4)  # Changing shape without altering data\n",
        "print(\"Reshaped Tensor:\\n\", reshaped_tensor)\n"
      ],
      "metadata": {
        "colab": {
          "base_uri": "https://localhost:8080/"
        },
        "id": "QmR3PjyenkSZ",
        "outputId": "eed6a815-7e12-4cd3-83a7-654fb82edf28"
      },
      "execution_count": 10,
      "outputs": [
        {
          "output_type": "stream",
          "name": "stdout",
          "text": [
            "Reshaped Tensor:\n",
            " tensor([[1, 2, 3, 4],\n",
            "        [5, 6, 7, 8]])\n"
          ]
        }
      ]
    },
    {
      "cell_type": "code",
      "source": [
        "# Advanced Tensor Operations\n",
        "# Example 1: Transpose\n",
        "t_transposed = torch.transpose(x, 0, 1)\n",
        "print(\"Transposed Tensor:\\n\", t_transposed)"
      ],
      "metadata": {
        "colab": {
          "base_uri": "https://localhost:8080/"
        },
        "id": "ktNy1IafnnYL",
        "outputId": "9bdb277a-f488-4816-b59c-8bd998b8de39"
      },
      "execution_count": 11,
      "outputs": [
        {
          "output_type": "stream",
          "name": "stdout",
          "text": [
            "Transposed Tensor:\n",
            " tensor([[1., 3.],\n",
            "        [2., 4.]])\n"
          ]
        }
      ]
    },
    {
      "cell_type": "code",
      "source": [
        "# Example 2: Squeeze and Unsqueeze\n",
        "t_squeezed = torch.squeeze(torch.tensor([[[1], [2], [3]]]))\n",
        "print(\"Squeezed Tensor:\\n\", t_squeezed)\n",
        "\n",
        "t_unsqueezed = torch.unsqueeze(torch.tensor([1, 2, 3]), dim=1)\n",
        "print(\"Unsqueezed Tensor:\\n\", t_unsqueezed)\n"
      ],
      "metadata": {
        "colab": {
          "base_uri": "https://localhost:8080/"
        },
        "id": "teVDKb-Fnqyv",
        "outputId": "9f95903e-a0f9-4615-94a6-f1b71a8f6715"
      },
      "execution_count": 12,
      "outputs": [
        {
          "output_type": "stream",
          "name": "stdout",
          "text": [
            "Squeezed Tensor:\n",
            " tensor([1, 2, 3])\n",
            "Unsqueezed Tensor:\n",
            " tensor([[1],\n",
            "        [2],\n",
            "        [3]])\n"
          ]
        }
      ]
    },
    {
      "cell_type": "code",
      "source": [
        "# Example 3: Permutation (Rearranging dimensions)\n",
        "z = torch.rand(2, 3, 4)\n",
        "z_permuted = z.permute(2, 0, 1)\n",
        "print(\"Permuted Tensor Shape:\\n\", z_permuted.shape)\n",
        "\n"
      ],
      "metadata": {
        "colab": {
          "base_uri": "https://localhost:8080/"
        },
        "id": "lPIwJHjFnrVn",
        "outputId": "c411093a-3796-4d13-b8c9-a4212aa0d63f"
      },
      "execution_count": 13,
      "outputs": [
        {
          "output_type": "stream",
          "name": "stdout",
          "text": [
            "Permuted Tensor Shape:\n",
            " torch.Size([4, 2, 3])\n"
          ]
        }
      ]
    },
    {
      "cell_type": "code",
      "source": [
        "# Example 4: Element-wise exponentiation\n",
        "t_exp = torch.pow(x, 2)\n",
        "print(\"Element-wise exponentiation:\\n\", t_exp)\n",
        "\n"
      ],
      "metadata": {
        "colab": {
          "base_uri": "https://localhost:8080/"
        },
        "id": "2PhwMbpCnvVf",
        "outputId": "dc440db2-ab87-4f17-9b32-6f54db089a17"
      },
      "execution_count": 14,
      "outputs": [
        {
          "output_type": "stream",
          "name": "stdout",
          "text": [
            "Element-wise exponentiation:\n",
            " tensor([[ 1.,  4.],\n",
            "        [ 9., 16.]])\n"
          ]
        }
      ]
    },
    {
      "cell_type": "code",
      "source": [
        "\n",
        "# Example 5: Einsum-style operations with PyTorch\n",
        "a = torch.tensor([[1, 2], [3, 4]])\n",
        "b = torch.tensor([[5, 6], [7, 8]])\n",
        "einsum_result1 = torch.einsum('ij,ij->ij', [a, b])  # Element-wise multiplication\n",
        "print(\"Einsum - Element-wise multiplication:\\n\", einsum_result1)\n"
      ],
      "metadata": {
        "colab": {
          "base_uri": "https://localhost:8080/"
        },
        "id": "o6Q6ICqRnxI7",
        "outputId": "386f6476-b045-40db-fc32-8154f5247a68"
      },
      "execution_count": 15,
      "outputs": [
        {
          "output_type": "stream",
          "name": "stdout",
          "text": [
            "Einsum - Element-wise multiplication:\n",
            " tensor([[ 5, 12],\n",
            "        [21, 32]])\n"
          ]
        }
      ]
    },
    {
      "cell_type": "code",
      "source": [
        "\n",
        "einsum_result2 = torch.einsum('ik,kj->ij', [x, y])  # Matrix multiplication\n",
        "print(\"Einsum - Matrix Multiplication:\\n\", einsum_result2)\n",
        "\n",
        "einsum_result3 = torch.einsum('ij->i', torch.tensor([[1, 2, 3], [4, 5, 6]]))  # Column-wise sum\n",
        "print(\"Einsum - Sum across columns:\\n\", einsum_result3)\n",
        "\n"
      ],
      "metadata": {
        "colab": {
          "base_uri": "https://localhost:8080/"
        },
        "id": "fTDkTJFmnymW",
        "outputId": "674bd170-fb55-494b-d864-34b74a21f417"
      },
      "execution_count": 16,
      "outputs": [
        {
          "output_type": "stream",
          "name": "stdout",
          "text": [
            "Einsum - Matrix Multiplication:\n",
            " tensor([[19., 22.],\n",
            "        [43., 50.]])\n",
            "Einsum - Sum across columns:\n",
            " tensor([ 6, 15])\n"
          ]
        }
      ]
    },
    {
      "cell_type": "code",
      "source": [
        "# Example 6: Using Einops for tensor manipulations\n",
        "from einops import rearrange, reduce\n",
        "\n",
        "# Rearranging (similar to permute but more intuitive)\n",
        "z_rearranged = rearrange(z, 'b c h -> h b c')\n",
        "print(\"Einops - Rearranged Tensor Shape:\\n\", z_rearranged.shape)\n",
        "\n",
        "# Reducing (e.g., summing over dimensions)\n",
        "z_reduced = reduce(z, 'b c h -> b h', 'sum')\n",
        "print(\"Einops - Reduced Tensor Shape:\\n\", z_reduced.shape)"
      ],
      "metadata": {
        "colab": {
          "base_uri": "https://localhost:8080/"
        },
        "id": "En1zaVhLn0Gv",
        "outputId": "5df5b13f-3aef-410c-c60c-f2c31b53107e"
      },
      "execution_count": 17,
      "outputs": [
        {
          "output_type": "stream",
          "name": "stdout",
          "text": [
            "Einops - Rearranged Tensor Shape:\n",
            " torch.Size([4, 2, 3])\n",
            "Einops - Reduced Tensor Shape:\n",
            " torch.Size([2, 4])\n"
          ]
        }
      ]
    }
  ]
}